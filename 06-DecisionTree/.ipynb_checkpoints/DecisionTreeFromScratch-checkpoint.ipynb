{
 "cells": [
  {
   "cell_type": "markdown",
   "id": "1e3323e2",
   "metadata": {},
   "source": [
    "# Decision tree from scratch"
   ]
  },
  {
   "cell_type": "code",
   "execution_count": 1,
   "id": "26d1a1de",
   "metadata": {},
   "outputs": [
    {
     "data": {
      "text/plain": [
       "array([[-68, -57, -61, ..., -85, -85,   1],\n",
       "       [-63, -60, -60, ..., -85, -84,   1],\n",
       "       [-61, -60, -68, ..., -90, -80,   1],\n",
       "       ...,\n",
       "       [-62, -59, -46, ..., -87, -88,   4],\n",
       "       [-62, -58, -52, ..., -90, -85,   4],\n",
       "       [-59, -50, -45, ..., -88, -87,   4]])"
      ]
     },
     "execution_count": 1,
     "metadata": {},
     "output_type": "execute_result"
    }
   ],
   "source": [
    "import pandas as pd\n",
    "\n",
    "df = pd.read_csv('wifi_localization.txt', delimiter='\\t').to_numpy()\n",
    "df"
   ]
  },
  {
   "cell_type": "markdown",
   "id": "77f7ac57",
   "metadata": {},
   "source": [
    "## Split into train and test"
   ]
  },
  {
   "cell_type": "code",
   "execution_count": 2,
   "id": "9c743fb5",
   "metadata": {},
   "outputs": [
    {
     "name": "stdout",
     "output_type": "stream",
     "text": [
      "(399, 7)\n",
      "(1599, 7)\n"
     ]
    }
   ],
   "source": [
    "import numpy as np\n",
    "np.random.seed(42)\n",
    "\n",
    "def train_test_split(data, test_radio = 0.2):\n",
    "    # Shuffle\n",
    "    random_idx = np.random.permutation(data.shape[0] - 1)\n",
    "    data = data[random_idx]\n",
    "    thresh = int(data.shape[0] * test_radio)\n",
    "    X = data[:, :-1]\n",
    "    y = data[:, -1] - 1\n",
    "    return X[:thresh], X[thresh:], y[:thresh], y[thresh:]\n",
    "\n",
    "X_test, X_train, y_test, y_train = train_test_split(df)\n",
    "print(X_test.shape)\n",
    "print(X_train.shape)"
   ]
  },
  {
   "cell_type": "markdown",
   "id": "96dbae82",
   "metadata": {},
   "source": [
    "## DecisionTreeClassifier"
   ]
  },
  {
   "cell_type": "code",
   "execution_count": 3,
   "id": "cf03c2ae",
   "metadata": {},
   "outputs": [],
   "source": [
    "class Node:\n",
    "    def __init__(self, gini, num_samples, num_samples_per_class, predicted_class):\n",
    "        self.gini = gini\n",
    "        self.num_samples = num_samples\n",
    "        self.num_samples_per_class = num_samples_per_class\n",
    "        self.predicted_class = predicted_class\n",
    "        self.feature_index = 0\n",
    "        self.threshold = 0\n",
    "        self.left = None\n",
    "        self.right = None"
   ]
  },
  {
   "cell_type": "code",
   "execution_count": 4,
   "id": "23334d6c",
   "metadata": {},
   "outputs": [],
   "source": [
    "class DecisionTreeClassifier:\n",
    "    def __init__(self, max_depth=None):\n",
    "        self.max_depth = max_depth\n",
    "        \n",
    "    def fit(self, X, y):\n",
    "        self._n_classes = len(set(y))\n",
    "        self._n_features = X.shape[1]\n",
    "        self.tree = self.grow_tree(X, y)\n",
    "    \n",
    "    def gini_score(self, y):\n",
    "        m = y.size\n",
    "        return 1.0 - sum((np.sum(y == c) / m) ** 2 for c in range(self._n_classes))\n",
    "    \n",
    "    def find_best_split(self, X, y):\n",
    "        m = y.shape[0]\n",
    "        if m<=1:\n",
    "            return None, None\n",
    "        \n",
    "        # Count of each class in current node\n",
    "        num_parent = [np.sum(y == c) for c in range(self._n_classes)]\n",
    "        \n",
    "        # Gini of current node\n",
    "        best_gini = 1.0 - sum((n/m) ** 2 for n in num_parent)\n",
    "        best_idx, best_thresh = None, None\n",
    "        \n",
    "        for idx in range(self._n_features):\n",
    "            thresholds, classes = zip(*sorted(zip(X[:,idx], y)))\n",
    "            \n",
    "            num_left = np.zeros((self._n_classes))\n",
    "            num_right = num_parent[:]\n",
    "            \n",
    "            for i in range(1,m):\n",
    "                c = classes[i-1]\n",
    "                num_left[c] += 1\n",
    "                num_right[c] -= 1\n",
    "                \n",
    "                left_gini = 1.0 - sum((num_left[n]/i) ** 2 for n in range(self._n_classes))\n",
    "                right_gini = 1.0 - sum((num_right[n]/(m-i)) ** 2 for n in range(self._n_classes))\n",
    "                \n",
    "                gini = (i * left_gini + (m - i) * right_gini) / m\n",
    "                \n",
    "                if thresholds[i] == thresholds[i - 1]:\n",
    "                    continue\n",
    "                    \n",
    "                if gini < best_gini:\n",
    "                    best_gini = gini\n",
    "                    best_idx = idx\n",
    "                    best_thresh = (thresholds[i] + thresholds[i - 1]) / 2 \n",
    "                    \n",
    "        return best_idx, best_thresh\n",
    "    \n",
    "    def grow_tree(self, X, y, depth=0):\n",
    "        num_classes = [np.sum(y == c) for c in range(self._n_classes)]\n",
    "        predicted_class = np.argmax(num_classes)\n",
    "        node = Node(self.gini_score(y), len(y), num_classes, predicted_class)\n",
    "        \n",
    "        if depth < self.max_depth:\n",
    "            idx, thresh = self.find_best_split(X, y)\n",
    "            if idx is not None:\n",
    "                node.feature_idx = idx\n",
    "                node.threshold = thresh\n",
    "                left = X[:,idx] < thresh\n",
    "                X_left, y_left = X[left], y[left]\n",
    "                X_right, y_right = X[~left], y[~left]\n",
    "                node.left = self.grow_tree(X_left, y_left, depth+1)\n",
    "                node.right = self.grow_tree(X_right, y_right, depth+1)\n",
    "        return node\n",
    "    \n",
    "    def predict(self, X):\n",
    "        return [self._predict(inputs) for inputs in X]\n",
    "\n",
    "    def _predict(self, inputs):\n",
    "        node = self.tree\n",
    "        while node.left:\n",
    "            if inputs[node.feature_index] < node.threshold:\n",
    "                node = node.left\n",
    "            else:\n",
    "                node = node.right\n",
    "        return node.predicted_class\n",
    "                "
   ]
  },
  {
   "cell_type": "code",
   "execution_count": 11,
   "id": "8505d6a9",
   "metadata": {},
   "outputs": [],
   "source": [
    "tree = DecisionTreeClassifier(max_depth=2)\n",
    "tree.fit(X_train, y_train)"
   ]
  },
  {
   "cell_type": "code",
   "execution_count": 12,
   "id": "6c2930ba",
   "metadata": {},
   "outputs": [
    {
     "name": "stdout",
     "output_type": "stream",
     "text": [
      "0.7879924953095685\n"
     ]
    }
   ],
   "source": [
    "pred = tree.predict(X_train)\n",
    "print(np.sum(pred == y_train) / len(pred))"
   ]
  },
  {
   "cell_type": "code",
   "execution_count": 13,
   "id": "e0ad98be",
   "metadata": {},
   "outputs": [
    {
     "name": "stdout",
     "output_type": "stream",
     "text": [
      "0.7619047619047619\n"
     ]
    }
   ],
   "source": [
    "pred = tree.predict(X_test)\n",
    "print(np.sum(pred == y_test) / len(pred))"
   ]
  },
  {
   "cell_type": "code",
   "execution_count": null,
   "id": "4c08e51a",
   "metadata": {},
   "outputs": [],
   "source": []
  }
 ],
 "metadata": {
  "kernelspec": {
   "display_name": "Python 3.8.10 64-bit",
   "language": "python",
   "name": "python3810jvsc74a57bd0916dbcbb3f70747c44a77c7bcd40155683ae19c65e1c03b4aa3499c5328201f1"
  },
  "language_info": {
   "codemirror_mode": {
    "name": "ipython",
    "version": 3
   },
   "file_extension": ".py",
   "mimetype": "text/x-python",
   "name": "python",
   "nbconvert_exporter": "python",
   "pygments_lexer": "ipython3",
   "version": "3.8.10"
  }
 },
 "nbformat": 4,
 "nbformat_minor": 5
}
