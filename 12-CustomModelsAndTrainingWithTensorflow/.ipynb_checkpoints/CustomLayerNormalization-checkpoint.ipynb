{
 "cells": [
  {
   "cell_type": "markdown",
   "id": "f3e189b6",
   "metadata": {},
   "source": [
    "# Custom LayerNormalization"
   ]
  },
  {
   "cell_type": "code",
   "execution_count": 1,
   "id": "607f8212",
   "metadata": {},
   "outputs": [],
   "source": [
    "import tensorflow as tf\n",
    "from tensorflow import keras\n",
    "tf.random.set_seed(42)"
   ]
  },
  {
   "cell_type": "markdown",
   "id": "e1535735",
   "metadata": {},
   "source": [
    "## Load dataset for testing if layer produces valid output"
   ]
  },
  {
   "cell_type": "code",
   "execution_count": 2,
   "id": "750091d3",
   "metadata": {},
   "outputs": [
    {
     "name": "stdout",
     "output_type": "stream",
     "text": [
      "(60000, 28, 28)\n"
     ]
    }
   ],
   "source": [
    "(X_train, y_train), (X_test, y_test) = keras.datasets.mnist.load_data()\n",
    "print(X_train.shape)"
   ]
  },
  {
   "cell_type": "markdown",
   "id": "cb8c9a7a",
   "metadata": {},
   "source": [
    "## Keras' LayerNorm"
   ]
  },
  {
   "cell_type": "code",
   "execution_count": 3,
   "id": "7f784538",
   "metadata": {},
   "outputs": [
    {
     "name": "stderr",
     "output_type": "stream",
     "text": [
      "2021-12-20 17:42:24.752305: I tensorflow/core/platform/cpu_feature_guard.cc:151] This TensorFlow binary is optimized with oneAPI Deep Neural Network Library (oneDNN) to use the following CPU instructions in performance-critical operations:  AVX2 FMA\n",
      "To enable them in other operations, rebuild TensorFlow with the appropriate compiler flags.\n",
      "2021-12-20 17:42:25.224237: I tensorflow/core/common_runtime/gpu/gpu_device.cc:1525] Created device /job:localhost/replica:0/task:0/device:GPU:0 with 3072 MB memory:  -> device: 0, name: NVIDIA GeForce GTX 960, pci bus id: 0000:01:00.0, compute capability: 5.2\n",
      "2021-12-20 17:42:25.656696: I tensorflow/stream_executor/cuda/cuda_dnn.cc:366] Loaded cuDNN version 8100\n"
     ]
    },
    {
     "data": {
      "text/plain": [
       "array([[-0.4407901 , -0.4407901 , -0.4407901 , ..., -0.4407901 ,\n",
       "        -0.4407901 , -0.4407901 ],\n",
       "       [-0.47280163, -0.47280163, -0.47280163, ..., -0.47280163,\n",
       "        -0.47280163, -0.47280163],\n",
       "       [-0.37816158, -0.37816158, -0.37816158, ..., -0.37816158,\n",
       "        -0.37816158, -0.37816158]], dtype=float32)"
      ]
     },
     "execution_count": 3,
     "metadata": {},
     "output_type": "execute_result"
    }
   ],
   "source": [
    "model = keras.Sequential([\n",
    "    keras.layers.Flatten(input_shape=[28,28]),\n",
    "    keras.layers.LayerNormalization()\n",
    "])\n",
    "\n",
    "model.compile(optimizer='sgd', loss='mean_squared_error')\n",
    "\n",
    "model.predict(X_train[:3])"
   ]
  },
  {
   "cell_type": "markdown",
   "id": "1487beea",
   "metadata": {},
   "source": [
    "## Custom LayerNorm"
   ]
  },
  {
   "cell_type": "code",
   "execution_count": 4,
   "id": "a750de0d",
   "metadata": {},
   "outputs": [],
   "source": [
    "class LayerNorm(keras.layers.Layer):\n",
    "    def __init__(self, **kwargs):\n",
    "        super().__init__(**kwargs)\n",
    "        \n",
    "    def build(self, input_shape):\n",
    "        self.alpha = self.add_weight(name='alpha', shape=input_shape[-1:], \n",
    "                                     dtype=tf.float32, \n",
    "                                     initializer=tf.ones_initializer())\n",
    "        self.beta = self.add_weight(name='beta', shape=input_shape[-1:], \n",
    "                                    dtype=tf.float32, \n",
    "                                    initializer=tf.zeros_initializer())\n",
    "        super().build(input_shape)\n",
    "        \n",
    "    def compute_output_shape(self, batch_input_shape):\n",
    "        return batch_input_shape\n",
    "\n",
    "    def call(self, X):\n",
    "        mean, variance = tf.nn.moments(X, axes=-1, keepdims=True)\n",
    "        stddev = tf.sqrt(variance)\n",
    "        return tf.multiply(self.alpha, X - mean) / (stddev + 0.001) + self.beta"
   ]
  },
  {
   "cell_type": "code",
   "execution_count": 5,
   "id": "add7e580",
   "metadata": {},
   "outputs": [
    {
     "data": {
      "text/plain": [
       "array([[-0.4407846 , -0.4407846 , -0.4407846 , ..., -0.4407846 ,\n",
       "        -0.4407846 , -0.4407846 ],\n",
       "       [-0.47279605, -0.47279605, -0.47279605, ..., -0.47279605,\n",
       "        -0.47279605, -0.47279605],\n",
       "       [-0.37815583, -0.37815583, -0.37815583, ..., -0.37815583,\n",
       "        -0.37815583, -0.37815583]], dtype=float32)"
      ]
     },
     "execution_count": 5,
     "metadata": {},
     "output_type": "execute_result"
    }
   ],
   "source": [
    "custom_model = keras.Sequential([\n",
    "    keras.layers.Flatten(input_shape=[28,28]),\n",
    "    LayerNorm()\n",
    "])\n",
    "\n",
    "custom_model.compile(optimizer='sgd', loss='mean_squared_error')\n",
    "\n",
    "custom_model.predict(X_train[:3])"
   ]
  },
  {
   "cell_type": "code",
   "execution_count": null,
   "id": "014c4b6f",
   "metadata": {},
   "outputs": [],
   "source": []
  }
 ],
 "metadata": {
  "kernelspec": {
   "display_name": "Python 3 (ipykernel)",
   "language": "python",
   "name": "python3"
  },
  "language_info": {
   "codemirror_mode": {
    "name": "ipython",
    "version": 3
   },
   "file_extension": ".py",
   "mimetype": "text/x-python",
   "name": "python",
   "nbconvert_exporter": "python",
   "pygments_lexer": "ipython3",
   "version": "3.8.10"
  }
 },
 "nbformat": 4,
 "nbformat_minor": 5
}
