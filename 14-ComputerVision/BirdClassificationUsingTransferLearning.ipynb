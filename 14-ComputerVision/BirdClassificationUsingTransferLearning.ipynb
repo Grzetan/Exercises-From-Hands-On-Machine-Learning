{
 "cells": [
  {
   "cell_type": "markdown",
   "id": "8be87c92",
   "metadata": {},
   "source": [
    "# Bird Classification using transfer learning"
   ]
  },
  {
   "cell_type": "code",
   "execution_count": 1,
   "id": "788d4998",
   "metadata": {},
   "outputs": [],
   "source": [
    "import torch\n",
    "from torch.utils.data import Dataset, DataLoader\n",
    "from torchvision import transforms\n",
    "import os\n",
    "from PIL import Image\n",
    "import numpy as np"
   ]
  },
  {
   "cell_type": "code",
   "execution_count": 5,
   "id": "d91cae99",
   "metadata": {},
   "outputs": [],
   "source": [
    "DATASET_DIR = '/media/grzetan/445C33B25C339E1C/datasets/birds'\n",
    "\n",
    "class BirdDataset(Dataset):\n",
    "    def __init__(self, root_dir, random_state=42, transform=None):\n",
    "        np.random.seed(random_state)\n",
    "        self.root = root_dir\n",
    "        self.classes = os.listdir(self.root)\n",
    "        self.paths = []\n",
    "        self.labels = []\n",
    "        for cls in self.classes:\n",
    "            for p in os.listdir(os.path.join(self.root, cls)):\n",
    "                self.paths.append(os.path.join(self.root, cls, p))\n",
    "                self.labels.append(self.classes.index(cls))\n",
    "        self.paths = np.array(self.paths)\n",
    "        self.labels = np.array(self.labels)\n",
    "        idx = np.random.permutation(len(self.paths))\n",
    "        self.paths = self.paths[idx]\n",
    "        self.labels = self.labels[idx]\n",
    "        self.transform = transform\n",
    "        \n",
    "    def __getitem__(self, idx):\n",
    "        label = self.labels[idx]\n",
    "        img = np.asarray(Image.open(self.paths[idx]))\n",
    "        \n",
    "        sample = (img, label)\n",
    "        \n",
    "        if self.transform:\n",
    "            sample = self.transform(sample)\n",
    "            \n",
    "        return sample"
   ]
  },
  {
   "cell_type": "markdown",
   "id": "20081dbc",
   "metadata": {},
   "source": [
    "## Transforms"
   ]
  },
  {
   "cell_type": "code",
   "execution_count": 76,
   "id": "5916baa0",
   "metadata": {},
   "outputs": [],
   "source": [
    "class ToTensor(object):\n",
    "    def __call__(self, sample):\n",
    "        img, label = sample\n",
    "        img = img / 255\n",
    "        img = img.transpose((2,0,1))\n",
    "        return (torch.from_numpy(img), torch.tensor(label))\n",
    "    \n",
    "class Normalize(object):\n",
    "    def __init__(self, mean, std):\n",
    "        self.mean = torch.tensor(mean)\n",
    "        self.std = torch.tensor(std)\n",
    "    \n",
    "    def __call__(self, sample):\n",
    "        img, label = sample\n",
    "        img = (img - self.mean[:,None,None]) / self.std[:,None,None]\n",
    "        return img, label        "
   ]
  },
  {
   "cell_type": "code",
   "execution_count": 77,
   "id": "eb83e5e1",
   "metadata": {},
   "outputs": [],
   "source": [
    "normalize = Normalize(mean=[0.4451, 0.4262, 0.3959], std=[0.2411, 0.2403, 0.2466])\n",
    "\n",
    "train_set = BirdDataset(os.path.join(DATASET_DIR, 'train'), \n",
    "                      transform=transforms.Compose([ToTensor(), normalize]))\n",
    "test_set = BirdDataset(os.path.join(DATASET_DIR, 'test'), \n",
    "                      transform=transforms.Compose([ToTensor(), normalize]))\n",
    "val_set = BirdDataset(os.path.join(DATASET_DIR, 'valid'), \n",
    "                      transform=transforms.Compose([ToTensor(), normalize]))"
   ]
  },
  {
   "cell_type": "code",
   "execution_count": null,
   "id": "84e8ce6e",
   "metadata": {},
   "outputs": [],
   "source": []
  }
 ],
 "metadata": {
  "kernelspec": {
   "display_name": "Python 3 (ipykernel)",
   "language": "python",
   "name": "python3"
  },
  "language_info": {
   "codemirror_mode": {
    "name": "ipython",
    "version": 3
   },
   "file_extension": ".py",
   "mimetype": "text/x-python",
   "name": "python",
   "nbconvert_exporter": "python",
   "pygments_lexer": "ipython3",
   "version": "3.8.10"
  }
 },
 "nbformat": 4,
 "nbformat_minor": 5
}
