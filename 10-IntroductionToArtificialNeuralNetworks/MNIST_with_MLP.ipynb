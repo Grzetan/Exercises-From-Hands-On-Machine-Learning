{
 "cells": [
  {
   "cell_type": "markdown",
   "id": "18f261a3",
   "metadata": {},
   "source": [
    "# MNIST with Multi Layer Perception"
   ]
  },
  {
   "cell_type": "code",
   "execution_count": 5,
   "id": "b7d5ffe1",
   "metadata": {},
   "outputs": [],
   "source": [
    "import tensorflow as tf\n",
    "from tensorflow import keras"
   ]
  },
  {
   "cell_type": "code",
   "execution_count": 2,
   "id": "615e6b02",
   "metadata": {},
   "outputs": [
    {
     "name": "stdout",
     "output_type": "stream",
     "text": [
      "(60000, 28, 28)\n",
      "uint8\n",
      "(10000, 28, 28)\n"
     ]
    }
   ],
   "source": [
    "(X_train, y_train), (X_test, y_test) = tf.keras.datasets.mnist.load_data()\n",
    "print(X_train.shape)\n",
    "print(X_train.dtype)\n",
    "print(X_test.shape)"
   ]
  },
  {
   "cell_type": "code",
   "execution_count": 3,
   "id": "aabde3a5",
   "metadata": {},
   "outputs": [],
   "source": [
    "X_train = X_train / 255\n",
    "X_test = X_test /  255"
   ]
  },
  {
   "cell_type": "code",
   "execution_count": 4,
   "id": "f995e299",
   "metadata": {},
   "outputs": [
    {
     "name": "stdout",
     "output_type": "stream",
     "text": [
      "(50000, 28, 28)\n",
      "float64\n",
      "(10000, 28, 28)\n"
     ]
    }
   ],
   "source": [
    "X_train, X_val, y_train, y_val = X_train[10000:], X_train[:10000], y_train[10000:], y_train[:10000]\n",
    "print(X_train.shape)\n",
    "print(X_train.dtype)\n",
    "print(X_val.shape)"
   ]
  },
  {
   "cell_type": "code",
   "execution_count": 7,
   "id": "7bcf8898",
   "metadata": {},
   "outputs": [],
   "source": [
    "model = keras.Sequential([\n",
    "    keras.layers.Flatten(input_shape=[28,28]),\n",
    "    keras.layers.Dense(300, activation='relu'),\n",
    "    keras.layers.Dense(100, activation='relu'),\n",
    "    keras.layers.Dense(10, activation='sigmoid')\n",
    "])"
   ]
  },
  {
   "cell_type": "code",
   "execution_count": 8,
   "id": "bf198dde",
   "metadata": {},
   "outputs": [],
   "source": [
    "model.compile(loss=\"sparse_categorical_crossentropy\", optimizer=\"sgd\", metrics=[\"accuracy\"])"
   ]
  },
  {
   "cell_type": "code",
   "execution_count": 10,
   "id": "5ea7b01f",
   "metadata": {},
   "outputs": [
    {
     "name": "stdout",
     "output_type": "stream",
     "text": [
      "Epoch 1/30\n",
      "1563/1563 [==============================] - 3s 2ms/step - loss: 0.2940 - accuracy: 0.9153 - val_loss: 0.2553 - val_accuracy: 0.9269\n",
      "Epoch 2/30\n",
      "1563/1563 [==============================] - 3s 2ms/step - loss: 0.2405 - accuracy: 0.9311 - val_loss: 0.2293 - val_accuracy: 0.9325\n",
      "Epoch 3/30\n",
      "1563/1563 [==============================] - 3s 2ms/step - loss: 0.2055 - accuracy: 0.9416 - val_loss: 0.1943 - val_accuracy: 0.9445\n",
      "Epoch 4/30\n",
      "1563/1563 [==============================] - 3s 2ms/step - loss: 0.1799 - accuracy: 0.9493 - val_loss: 0.1818 - val_accuracy: 0.9461\n",
      "Epoch 5/30\n",
      "1563/1563 [==============================] - 3s 2ms/step - loss: 0.1600 - accuracy: 0.9543 - val_loss: 0.1603 - val_accuracy: 0.9541\n",
      "Epoch 6/30\n",
      "1563/1563 [==============================] - 3s 2ms/step - loss: 0.1441 - accuracy: 0.9588 - val_loss: 0.1483 - val_accuracy: 0.9570\n",
      "Epoch 7/30\n",
      "1563/1563 [==============================] - 3s 2ms/step - loss: 0.1304 - accuracy: 0.9629 - val_loss: 0.1396 - val_accuracy: 0.9595\n",
      "Epoch 8/30\n",
      "1563/1563 [==============================] - 3s 2ms/step - loss: 0.1191 - accuracy: 0.9658 - val_loss: 0.1313 - val_accuracy: 0.9612\n",
      "Epoch 9/30\n",
      "1563/1563 [==============================] - 3s 2ms/step - loss: 0.1093 - accuracy: 0.9692 - val_loss: 0.1226 - val_accuracy: 0.9654\n",
      "Epoch 10/30\n",
      "1563/1563 [==============================] - 3s 2ms/step - loss: 0.1004 - accuracy: 0.9723 - val_loss: 0.1185 - val_accuracy: 0.9665\n",
      "Epoch 11/30\n",
      "1563/1563 [==============================] - 3s 2ms/step - loss: 0.0929 - accuracy: 0.9737 - val_loss: 0.1124 - val_accuracy: 0.9674\n",
      "Epoch 12/30\n",
      "1563/1563 [==============================] - 3s 2ms/step - loss: 0.0865 - accuracy: 0.9753 - val_loss: 0.1079 - val_accuracy: 0.9689\n",
      "Epoch 13/30\n",
      "1563/1563 [==============================] - 3s 2ms/step - loss: 0.0806 - accuracy: 0.9778 - val_loss: 0.1049 - val_accuracy: 0.9698\n",
      "Epoch 14/30\n",
      "1563/1563 [==============================] - 3s 2ms/step - loss: 0.0752 - accuracy: 0.9789 - val_loss: 0.1029 - val_accuracy: 0.9711\n",
      "Epoch 15/30\n",
      "1563/1563 [==============================] - 3s 2ms/step - loss: 0.0705 - accuracy: 0.9804 - val_loss: 0.0972 - val_accuracy: 0.9708\n",
      "Epoch 16/30\n",
      "1563/1563 [==============================] - 3s 2ms/step - loss: 0.0659 - accuracy: 0.9820 - val_loss: 0.0990 - val_accuracy: 0.9709\n",
      "Epoch 17/30\n",
      "1563/1563 [==============================] - 3s 2ms/step - loss: 0.0619 - accuracy: 0.9833 - val_loss: 0.0918 - val_accuracy: 0.9742\n",
      "Epoch 18/30\n",
      "1563/1563 [==============================] - 3s 2ms/step - loss: 0.0583 - accuracy: 0.9837 - val_loss: 0.0939 - val_accuracy: 0.9727\n",
      "Epoch 19/30\n",
      "1563/1563 [==============================] - 3s 2ms/step - loss: 0.0545 - accuracy: 0.9855 - val_loss: 0.0901 - val_accuracy: 0.9736\n",
      "Epoch 20/30\n",
      "1563/1563 [==============================] - 3s 2ms/step - loss: 0.0514 - accuracy: 0.9864 - val_loss: 0.0868 - val_accuracy: 0.9752\n",
      "Epoch 21/30\n",
      "1563/1563 [==============================] - 3s 2ms/step - loss: 0.0484 - accuracy: 0.9867 - val_loss: 0.0855 - val_accuracy: 0.9758\n",
      "Epoch 22/30\n",
      "1563/1563 [==============================] - 3s 2ms/step - loss: 0.0455 - accuracy: 0.9883 - val_loss: 0.0846 - val_accuracy: 0.9757\n",
      "Epoch 23/30\n",
      "1563/1563 [==============================] - 3s 2ms/step - loss: 0.0432 - accuracy: 0.9886 - val_loss: 0.0834 - val_accuracy: 0.9767\n",
      "Epoch 24/30\n",
      "1563/1563 [==============================] - 3s 2ms/step - loss: 0.0406 - accuracy: 0.9894 - val_loss: 0.0839 - val_accuracy: 0.9748\n",
      "Epoch 25/30\n",
      "1563/1563 [==============================] - 3s 2ms/step - loss: 0.0382 - accuracy: 0.9902 - val_loss: 0.0856 - val_accuracy: 0.9740\n",
      "Epoch 26/30\n",
      "1563/1563 [==============================] - 3s 2ms/step - loss: 0.0364 - accuracy: 0.9910 - val_loss: 0.0812 - val_accuracy: 0.9758\n",
      "Epoch 27/30\n",
      "1563/1563 [==============================] - 3s 2ms/step - loss: 0.0341 - accuracy: 0.9919 - val_loss: 0.0801 - val_accuracy: 0.9762\n",
      "Epoch 28/30\n",
      "1563/1563 [==============================] - 3s 2ms/step - loss: 0.0323 - accuracy: 0.9922 - val_loss: 0.0802 - val_accuracy: 0.9768\n",
      "Epoch 29/30\n",
      "1563/1563 [==============================] - 3s 2ms/step - loss: 0.0305 - accuracy: 0.9930 - val_loss: 0.0777 - val_accuracy: 0.9776\n",
      "Epoch 30/30\n",
      "1563/1563 [==============================] - 3s 2ms/step - loss: 0.0289 - accuracy: 0.9930 - val_loss: 0.0774 - val_accuracy: 0.9772\n"
     ]
    },
    {
     "data": {
      "text/plain": [
       "<keras.callbacks.History at 0x7fb54836ed30>"
      ]
     },
     "execution_count": 10,
     "metadata": {},
     "output_type": "execute_result"
    }
   ],
   "source": [
    "model.fit(X_train, y_train, epochs=30, validation_data = (X_val, y_val))"
   ]
  },
  {
   "cell_type": "code",
   "execution_count": 11,
   "id": "cde12936",
   "metadata": {},
   "outputs": [
    {
     "name": "stdout",
     "output_type": "stream",
     "text": [
      "313/313 [==============================] - 0s 1ms/step - loss: 0.0739 - accuracy: 0.9776\n"
     ]
    },
    {
     "data": {
      "text/plain": [
       "[0.07387261092662811, 0.9775999784469604]"
      ]
     },
     "execution_count": 11,
     "metadata": {},
     "output_type": "execute_result"
    }
   ],
   "source": [
    "model.evaluate(X_test, y_test)"
   ]
  },
  {
   "cell_type": "code",
   "execution_count": null,
   "id": "f6f3bc99",
   "metadata": {},
   "outputs": [],
   "source": []
  }
 ],
 "metadata": {
  "kernelspec": {
   "display_name": "Python 3.8.10 64-bit",
   "language": "python",
   "name": "python3810jvsc74a57bd0916dbcbb3f70747c44a77c7bcd40155683ae19c65e1c03b4aa3499c5328201f1"
  },
  "language_info": {
   "codemirror_mode": {
    "name": "ipython",
    "version": 3
   },
   "file_extension": ".py",
   "mimetype": "text/x-python",
   "name": "python",
   "nbconvert_exporter": "python",
   "pygments_lexer": "ipython3",
   "version": "3.8.10"
  }
 },
 "nbformat": 4,
 "nbformat_minor": 5
}
