{
 "cells": [
  {
   "cell_type": "code",
   "execution_count": 1,
   "id": "4b319ae2",
   "metadata": {},
   "outputs": [
    {
     "data": {
      "text/plain": [
       "(tensor([[5253,    1,    8,  ...,    0,    0,    0],\n",
       "         [  51,    7, 1580,  ...,    0,    0,    0],\n",
       "         [   2,    1,    5,  ...,    0,    0,    0],\n",
       "         ...,\n",
       "         [ 485,  315,   11,  ...,    0,    0,    0],\n",
       "         [ 134,  190,   50,  ...,  757,    0,    0],\n",
       "         [   9,    8,   22,  ...,    0,    0,    0]], dtype=torch.int32),\n",
       " tensor([58, 73, 66, 68, 70, 69, 74, 68, 67, 54, 72, 70, 70, 76, 66, 44, 72, 72,\n",
       "         78, 74, 69, 69, 70, 74, 71, 75, 72, 70, 49, 68, 76, 38]),\n",
       " tensor([1., 0., 0., 0., 0., 0., 1., 1., 1., 1., 1., 0., 0., 0., 0., 0., 1., 0.,\n",
       "         1., 1., 1., 0., 1., 0., 1., 0., 1., 1., 1., 1., 0., 1.]))"
      ]
     },
     "execution_count": 1,
     "metadata": {},
     "output_type": "execute_result"
    }
   ],
   "source": [
    "import pandas\n",
    "import re\n",
    "import torch\n",
    "import torch.nn as nn\n",
    "from torch.nn.utils.rnn import pack_padded_sequence, pad_packed_sequence\n",
    "from collections import Counter\n",
    "from torch.utils.data import DataLoader, Dataset\n",
    "\n",
    "df = pandas.read_csv('IMDB_Dataset.csv')\n",
    "\n",
    "class Vocabulary(object):\n",
    "    def __init__(self, train_data, special_chars = ['<pad>', '<unk>'], size=10000):\n",
    "        voc = Counter()\n",
    "\n",
    "        for record in train_data.iloc[:25000]:\n",
    "            preprocessed = self.preprocess(record)\n",
    "            voc.update(preprocessed)\n",
    "            \n",
    "        self.vocabulary = special_chars + [word for word, count in voc.most_common()[:size]]\n",
    "        \n",
    "    def text2ids(self, text):\n",
    "        if not isinstance(text, list):\n",
    "            text = self.preprocess(text)\n",
    "        out = []\n",
    "        for word in text:\n",
    "            if word in self.vocabulary:\n",
    "                out.append(self.vocabulary.index(word))\n",
    "            else:\n",
    "                out.append(self.vocabulary.index('<unk>'))\n",
    "        return out    \n",
    "    \n",
    "    def make_batch(self, texts):\n",
    "        preprocessed = [self.preprocess(text) for text in texts]\n",
    "        lengths = [len(text) for text in preprocessed]\n",
    "        max_len = max(lengths)\n",
    "        for p in preprocessed:\n",
    "            if len(p) < max_len:\n",
    "                p += ['<pad>'] * (max_len - len(p))\n",
    "                \n",
    "        tokens = [self.text2ids(text) for text in preprocessed]\n",
    "        tokens = torch.tensor(tokens, dtype=torch.int32)\n",
    "        lengths = torch.tensor(lengths)\n",
    "        return tokens, lengths\n",
    "    \n",
    "    def preprocess(self, text, length=400):\n",
    "        text = text[:length]\n",
    "        only_words = re.compile(\"[^a-zA-Z']\")\n",
    "        remove_br = re.compile('<br\\\\s*/?>')\n",
    "        only_one_space = re.compile(\"[\\s]+\")\n",
    "        text = remove_br.sub(' ', text) \n",
    "        text = only_words.sub(' ', text)\n",
    "        text = text.lower()\n",
    "        text = only_one_space.sub(' ', text)\n",
    "        text = text.split(' ')\n",
    "        return text\n",
    "    \n",
    "    def __len__(self):\n",
    "        return len(self.vocabulary)\n",
    "\n",
    "class Reviews(Dataset):\n",
    "    def __init__(self, data):\n",
    "        self.reviews = data['review']\n",
    "        self.labels = data['sentiment']\n",
    "    \n",
    "    def __len__(self):\n",
    "        return len(self.reviews)\n",
    "    \n",
    "    def __getitem__(self, idx):\n",
    "        label = 0 if self.labels[idx] == 'negative' else 1\n",
    "        return self.reviews[idx], label\n",
    "    \n",
    "def collate_fn(batch):\n",
    "    text = [b[0] for b in batch]\n",
    "    labels = [b[1] for b in batch]\n",
    "    text, lengths = voc.make_batch(text)\n",
    "    return text, lengths, torch.tensor(labels).float()\n",
    "\n",
    "voc_size = 10000\n",
    "voc = Vocabulary(df['review'], size=voc_size)\n",
    "dataset = Reviews(df.iloc[:25000])\n",
    "loader = DataLoader(dataset, batch_size=32, collate_fn=collate_fn, shuffle=True)\n",
    "next(iter(loader))"
   ]
  },
  {
   "cell_type": "code",
   "execution_count": 2,
   "id": "58ca808b",
   "metadata": {},
   "outputs": [],
   "source": [
    "class LSTM(nn.Module):\n",
    "\n",
    "    def __init__(self, input_size, hidden_size=128, num_layers=3):\n",
    "        super(LSTM, self).__init__()\n",
    "        self.hidden_size = hidden_size\n",
    "        self.embedding = nn.Embedding(input_size, hidden_size)\n",
    "        self.rnn = nn.GRU(input_size=hidden_size,\n",
    "                            hidden_size=hidden_size,\n",
    "                            num_layers=num_layers,\n",
    "                            batch_first=True)\n",
    "        \n",
    "        self.drop = nn.Dropout(p=0.5)\n",
    "        self.fc = nn.Linear(hidden_size, 1)\n",
    "\n",
    "    def forward(self, text, text_len):\n",
    "        text_emb = self.embedding(text)\n",
    "\n",
    "        packed_input = pack_padded_sequence(text_emb, text_len, batch_first=True, enforce_sorted=False)\n",
    "        packed_output, _ = self.rnn(packed_input)\n",
    "        output, _ = pad_packed_sequence(packed_output, batch_first=True)\n",
    "\n",
    "        out_forward = output[range(len(output)), text_len - 1, :self.hidden_size]\n",
    "        out_reverse = output[:, 0, self.hidden_size:]\n",
    "        out_reduced = torch.cat((out_forward, out_reverse), 1)\n",
    "        text_fea = self.drop(out_reduced)\n",
    "\n",
    "        text_fea = self.fc(text_fea)\n",
    "        text_fea = torch.squeeze(text_fea, 1)\n",
    "        text_out = torch.sigmoid(text_fea)\n",
    "\n",
    "        return text_out"
   ]
  },
  {
   "cell_type": "code",
   "execution_count": 3,
   "id": "d7388b0d",
   "metadata": {},
   "outputs": [],
   "source": [
    "device = torch.device('cuda' if torch.cuda.is_available() else 'cpu')\n",
    "model = LSTM(len(voc)).to(device)\n",
    "criterion = nn.BCELoss()\n",
    "model.to(device)\n",
    "optimizer = torch.optim.Adam(model.parameters(), lr=0.001)\n",
    "\n",
    "train=False\n",
    "if train:\n",
    "    for epoch in range(1,10):\n",
    "        losses = []\n",
    "        for data, lengths, label in loader:\n",
    "            optimizer.zero_grad()\n",
    "            data = data.to(device)\n",
    "            label = label.to(device)\n",
    "            output = model(data, lengths)\n",
    "            loss = criterion(output, label)\n",
    "            loss.backward()\n",
    "            losses.append(loss.item())\n",
    "            print('\\r', sum(losses) / len(losses), end='')\n",
    "            optimizer.step()\n",
    "        torch.save(model.state_dict(), './model.pth')\n",
    "        print(\"epoch \" , epoch)\n",
    "else:\n",
    "    model.load_state_dict(torch.load('model.pth', map_location=device))"
   ]
  },
  {
   "cell_type": "code",
   "execution_count": 5,
   "id": "47a31b7f",
   "metadata": {},
   "outputs": [
    {
     "name": "stdout",
     "output_type": "stream",
     "text": [
      " 781"
     ]
    }
   ],
   "source": [
    "test_dataset = Reviews(df.iloc[25000:].reset_index(drop=True))\n",
    "test_loader = DataLoader(test_dataset, batch_size=32, collate_fn=collate_fn)\n",
    "model.eval()\n",
    "preds = []\n",
    "labels = []\n",
    "for i, (text, lengths, label) in enumerate(test_loader):\n",
    "    print('\\r', i, end='')\n",
    "    text = text.to(device)\n",
    "    output = model(text, lengths)\n",
    "    for p in output:\n",
    "        a = 1 if p>0.5 else 0\n",
    "        preds.append(a)\n",
    "    for l in label:\n",
    "        labels.append(l)"
   ]
  },
  {
   "cell_type": "code",
   "execution_count": 6,
   "id": "4be3fd07",
   "metadata": {},
   "outputs": [
    {
     "name": "stdout",
     "output_type": "stream",
     "text": [
      "0.79556\n"
     ]
    }
   ],
   "source": [
    "import numpy as np\n",
    "preds = np.array(preds)\n",
    "labels = np.array(labels)\n",
    "print(sum(preds == labels) / len(preds))"
   ]
  },
  {
   "cell_type": "code",
   "execution_count": 7,
   "id": "14647d4f",
   "metadata": {},
   "outputs": [
    {
     "name": "stdout",
     "output_type": "stream",
     "text": [
      "[0 1 1 ... 1 1 0]\n",
      "[0. 0. 1. ... 0. 0. 0.]\n"
     ]
    }
   ],
   "source": [
    "print(preds)\n",
    "print(labels)"
   ]
  },
  {
   "cell_type": "code",
   "execution_count": null,
   "id": "9afe4bc7",
   "metadata": {},
   "outputs": [],
   "source": []
  }
 ],
 "metadata": {
  "kernelspec": {
   "display_name": "Python 3 (ipykernel)",
   "language": "python",
   "name": "python3"
  },
  "language_info": {
   "codemirror_mode": {
    "name": "ipython",
    "version": 3
   },
   "file_extension": ".py",
   "mimetype": "text/x-python",
   "name": "python",
   "nbconvert_exporter": "python",
   "pygments_lexer": "ipython3",
   "version": "3.8.10"
  }
 },
 "nbformat": 4,
 "nbformat_minor": 5
}
