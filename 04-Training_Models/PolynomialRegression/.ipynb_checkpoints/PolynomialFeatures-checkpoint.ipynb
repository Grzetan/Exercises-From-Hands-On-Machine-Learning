{
 "cells": [
  {
   "cell_type": "markdown",
   "id": "4d3fe307",
   "metadata": {},
   "source": [
    "# Polynomial features"
   ]
  },
  {
   "cell_type": "markdown",
   "id": "147616c1",
   "metadata": {},
   "source": [
    "## Load data"
   ]
  },
  {
   "cell_type": "code",
   "execution_count": 1,
   "id": "71e717d6",
   "metadata": {},
   "outputs": [],
   "source": [
    "import numpy as np\n",
    "np.random.seed(45)\n",
    "\n",
    "m = 100\n",
    "X = 6 * np.random.rand(m, 1) - 3\n",
    "Y = 0.5 * X**2 + X + 2 + np.random.randn(m, 1)"
   ]
  },
  {
   "cell_type": "markdown",
   "id": "9a16e42e",
   "metadata": {},
   "source": [
    "## Polynomial transform"
   ]
  },
  {
   "cell_type": "code",
   "execution_count": 2,
   "id": "382e694e",
   "metadata": {},
   "outputs": [],
   "source": [
    "class PolynomialTransform:\n",
    "    def __init__(self, degree):\n",
    "        self.degree = degree\n",
    "        \n",
    "    def fit(self, X):\n",
    "        self.n = X.shape[1]\n",
    "        \n",
    "    def transform(self, X):\n",
    "        m = X.shape[0]\n",
    "        output = np.ones((m, 1))\n",
    "        \n",
    "        for i in range(1, self.degree + 1):\n",
    "            X_pow = np.power(X, i)\n",
    "            output = np.append(output, X_pow, axis=1)\n",
    "            \n",
    "        return output\n",
    "    \n",
    "    def fit_transform(self, X):\n",
    "        self.fit(X)\n",
    "        return self.transform(X)"
   ]
  },
  {
   "cell_type": "code",
   "execution_count": 17,
   "id": "e2641237",
   "metadata": {},
   "outputs": [],
   "source": [
    "transformer = PolynomialTransform(degree = 2)\n",
    "poly_x = transformer.fit_transform(X)\n",
    "Y = Y.reshape(-1,)\n",
    "poly_x = (poly_x - np.mean(poly_x)) / np.std(poly_x)"
   ]
  },
  {
   "cell_type": "markdown",
   "id": "8c9ab102",
   "metadata": {},
   "source": [
    "## Linear model"
   ]
  },
  {
   "cell_type": "code",
   "execution_count": 18,
   "id": "cc8506da",
   "metadata": {},
   "outputs": [],
   "source": [
    "class LinearRegression:\n",
    "    def __init(self):\n",
    "        pass\n",
    "    \n",
    "    def fit(self, X, Y, eta = 0.5, iterations = 5001):\n",
    "        self.num_features = X.shape[1]\n",
    "        self.m = X.shape[0]\n",
    "        self.theta = np.random.randn(self.num_features)\n",
    "\n",
    "        for i in range(iterations):\n",
    "            y_hat = X.dot(self.theta)\n",
    "            error = y_hat - Y\n",
    "            gradients = 1/self.m * X.T.dot(error)\n",
    "            self.theta = self.theta - eta * gradients\n",
    "            \n",
    "            if i%500 == 0:\n",
    "                loss = np.sqrt(1/self.m * np.sum(np.square(error)))\n",
    "                print(i, loss)\n",
    "            \n",
    "    def predict(self, X):\n",
    "        y_hat = X.dot(self.theta)\n",
    "        return y_hat"
   ]
  },
  {
   "cell_type": "code",
   "execution_count": 19,
   "id": "0db7f230",
   "metadata": {},
   "outputs": [
    {
     "name": "stdout",
     "output_type": "stream",
     "text": [
      "0 4.628853710019823\n",
      "500 0.9873312896475547\n",
      "1000 0.9781625598646038\n",
      "1500 0.9781412052582754\n",
      "2000 0.9781411557539303\n",
      "2500 0.9781411556391705\n",
      "3000 0.9781411556389045\n",
      "3500 0.9781411556389037\n",
      "4000 0.9781411556389039\n",
      "4500 0.9781411556389039\n",
      "5000 0.9781411556389039\n"
     ]
    }
   ],
   "source": [
    "model = LinearRegression()\n",
    "model.fit(poly_x, Y)"
   ]
  },
  {
   "cell_type": "code",
   "execution_count": 20,
   "id": "3312db1b",
   "metadata": {},
   "outputs": [
    {
     "name": "stdout",
     "output_type": "stream",
     "text": [
      "0.9781411556389039\n"
     ]
    }
   ],
   "source": [
    "pred = model.predict(poly_x)\n",
    "print(np.sqrt(1/len(pred) * np.sum(np.square(Y - pred))))"
   ]
  },
  {
   "cell_type": "code",
   "execution_count": null,
   "id": "49cb3c80",
   "metadata": {},
   "outputs": [],
   "source": []
  }
 ],
 "metadata": {
  "kernelspec": {
   "display_name": "Python 3.8.10 64-bit",
   "language": "python",
   "name": "python3810jvsc74a57bd0916dbcbb3f70747c44a77c7bcd40155683ae19c65e1c03b4aa3499c5328201f1"
  },
  "language_info": {
   "codemirror_mode": {
    "name": "ipython",
    "version": 3
   },
   "file_extension": ".py",
   "mimetype": "text/x-python",
   "name": "python",
   "nbconvert_exporter": "python",
   "pygments_lexer": "ipython3",
   "version": "3.8.10"
  }
 },
 "nbformat": 4,
 "nbformat_minor": 5
}
