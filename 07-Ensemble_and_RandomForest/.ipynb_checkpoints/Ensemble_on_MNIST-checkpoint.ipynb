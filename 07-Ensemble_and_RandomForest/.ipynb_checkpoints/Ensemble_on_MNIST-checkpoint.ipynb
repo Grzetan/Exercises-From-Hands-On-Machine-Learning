{
 "cells": [
  {
   "cell_type": "markdown",
   "id": "32fbe2e5",
   "metadata": {},
   "source": [
    "# Ensemble on MNIST dataset"
   ]
  },
  {
   "cell_type": "code",
   "execution_count": 1,
   "id": "cff699a5",
   "metadata": {},
   "outputs": [
    {
     "name": "stdout",
     "output_type": "stream",
     "text": [
      "(60000, 784)\n",
      "(10000, 784)\n"
     ]
    }
   ],
   "source": [
    "from sklearn.datasets import fetch_openml\n",
    "\n",
    "X, y = fetch_openml(\"mnist_784\", version=1, return_X_y=True, as_frame=False)\n",
    "\n",
    "from sklearn.model_selection import train_test_split\n",
    "\n",
    "x_train, x_test, y_train, y_test = train_test_split(X, y, test_size = 10000, random_state=10)\n",
    "print(x_train.shape)\n",
    "print(x_test.shape)"
   ]
  },
  {
   "cell_type": "code",
   "execution_count": 2,
   "id": "749cfd7f",
   "metadata": {},
   "outputs": [
    {
     "name": "stdout",
     "output_type": "stream",
     "text": [
      "(50000, 784)\n",
      "(10000, 784)\n"
     ]
    }
   ],
   "source": [
    "x_train, x_val, y_train, y_val = train_test_split(x_train, y_train, test_size = 10000, random_state=10)\n",
    "print(x_train.shape)\n",
    "print(x_val.shape)"
   ]
  },
  {
   "cell_type": "markdown",
   "id": "d7e7dee4",
   "metadata": {},
   "source": [
    "## Train classifiers"
   ]
  },
  {
   "cell_type": "code",
   "execution_count": 3,
   "id": "83a8f29c",
   "metadata": {},
   "outputs": [
    {
     "name": "stdout",
     "output_type": "stream",
     "text": [
      "Training  RandomForestClassifier(random_state=10)\n",
      "Training  LinearSVC(max_iter=100, random_state=10)\n"
     ]
    },
    {
     "name": "stderr",
     "output_type": "stream",
     "text": [
      "/home/grzetan/.local/lib/python3.8/site-packages/sklearn/svm/_base.py:1206: ConvergenceWarning: Liblinear failed to converge, increase the number of iterations.\n",
      "  warnings.warn(\n"
     ]
    },
    {
     "name": "stdout",
     "output_type": "stream",
     "text": [
      "Training  ExtraTreesClassifier(random_state=10)\n"
     ]
    }
   ],
   "source": [
    "from sklearn.ensemble import RandomForestClassifier, ExtraTreesClassifier\n",
    "from sklearn.svm import LinearSVC\n",
    "\n",
    "forest = RandomForestClassifier(n_estimators=100, random_state=10)\n",
    "svc = LinearSVC(max_iter=100, random_state=10)\n",
    "extra_trees = ExtraTreesClassifier(n_estimators=100, random_state=10)\n",
    "\n",
    "estimators = [forest, svc, extra_trees]\n",
    "for estimator in estimators:\n",
    "    print('Training ', estimator)\n",
    "    estimator.fit(x_train, y_train)"
   ]
  },
  {
   "cell_type": "code",
   "execution_count": 4,
   "id": "883f4c1f",
   "metadata": {},
   "outputs": [
    {
     "name": "stdout",
     "output_type": "stream",
     "text": [
      "Score for  RandomForestClassifier(random_state=10) :  0.9692\n",
      "Score for  LinearSVC(max_iter=100, random_state=10) :  0.8746\n",
      "Score for  ExtraTreesClassifier(random_state=10) :  0.9738\n"
     ]
    }
   ],
   "source": [
    "for estimator in estimators:\n",
    "    print('Score for ', estimator, \": \", estimator.score(x_val, y_val))"
   ]
  },
  {
   "cell_type": "markdown",
   "id": "bf206739",
   "metadata": {},
   "source": [
    "## Create an ensemble"
   ]
  },
  {
   "cell_type": "code",
   "execution_count": 5,
   "id": "1d7a7fbd",
   "metadata": {},
   "outputs": [
    {
     "data": {
      "text/plain": [
       "VotingClassifier(estimators=[('random_forest',\n",
       "                              RandomForestClassifier(random_state=10)),\n",
       "                             ('linear_svc',\n",
       "                              LinearSVC(max_iter=100, random_state=10)),\n",
       "                             ('extra_trees',\n",
       "                              ExtraTreesClassifier(random_state=10))],\n",
       "                 n_jobs=-1)"
      ]
     },
     "execution_count": 5,
     "metadata": {},
     "output_type": "execute_result"
    }
   ],
   "source": [
    "from sklearn.ensemble import VotingClassifier\n",
    "\n",
    "name_estimators = [\n",
    "    ('random_forest', forest),\n",
    "    ('linear_svc', svc),\n",
    "    ('extra_trees', extra_trees)\n",
    "]\n",
    "ensemble = VotingClassifier(estimators = name_estimators, n_jobs = -1, voting='hard')\n",
    "ensemble.fit(x_train, y_train)"
   ]
  },
  {
   "cell_type": "code",
   "execution_count": 6,
   "id": "0500b3b8",
   "metadata": {},
   "outputs": [
    {
     "data": {
      "text/plain": [
       "0.9695"
      ]
     },
     "execution_count": 6,
     "metadata": {},
     "output_type": "execute_result"
    }
   ],
   "source": [
    "ensemble.score(x_val, y_val)"
   ]
  },
  {
   "cell_type": "markdown",
   "id": "49a4f343",
   "metadata": {},
   "source": [
    "## Perform stacking"
   ]
  },
  {
   "cell_type": "code",
   "execution_count": 8,
   "id": "8395a724",
   "metadata": {},
   "outputs": [
    {
     "data": {
      "text/plain": [
       "array([[1., 1., 1.],\n",
       "       [4., 4., 4.],\n",
       "       [6., 6., 6.],\n",
       "       ...,\n",
       "       [6., 6., 6.],\n",
       "       [2., 2., 2.],\n",
       "       [8., 8., 8.]])"
      ]
     },
     "execution_count": 8,
     "metadata": {},
     "output_type": "execute_result"
    }
   ],
   "source": [
    "import numpy as np\n",
    "\n",
    "x_stacking = np.empty((x_val.shape[0], len(estimators)))\n",
    "y_stacking = y_val.copy()\n",
    "\n",
    "for i, estimator in enumerate(estimators):\n",
    "    x_stacking[:,i] = estimator.predict(x_val)\n",
    "\n",
    "x_stacking"
   ]
  },
  {
   "cell_type": "code",
   "execution_count": 10,
   "id": "8afb8a2d",
   "metadata": {},
   "outputs": [
    {
     "data": {
      "text/plain": [
       "0.9697"
      ]
     },
     "execution_count": 10,
     "metadata": {},
     "output_type": "execute_result"
    },
    {
     "name": "stderr",
     "output_type": "stream",
     "text": [
      "/home/grzetan/.local/lib/python3.8/site-packages/sklearn/svm/_base.py:1206: ConvergenceWarning: Liblinear failed to converge, increase the number of iterations.\n",
      "  warnings.warn(\n"
     ]
    }
   ],
   "source": [
    "from sklearn.svm import SVC\n",
    "\n",
    "blender = SVC()\n",
    "blender.fit(x_stacking, y_stacking)\n",
    "blender.score(x_stacking, y_stacking)"
   ]
  },
  {
   "cell_type": "markdown",
   "id": "70f0760d",
   "metadata": {},
   "source": [
    "## Test on test set"
   ]
  },
  {
   "cell_type": "code",
   "execution_count": 11,
   "id": "09127cd0",
   "metadata": {},
   "outputs": [
    {
     "data": {
      "text/plain": [
       "0.964"
      ]
     },
     "execution_count": 11,
     "metadata": {},
     "output_type": "execute_result"
    }
   ],
   "source": [
    "x_test_blender = np.empty((x_test.shape[0], len(estimators)))\n",
    "\n",
    "for i, estimator in enumerate(estimators):\n",
    "    x_test_blender[:,i] = estimator.predict(x_test)\n",
    "    \n",
    "blender.score(x_test_blender, y_test)"
   ]
  },
  {
   "cell_type": "code",
   "execution_count": null,
   "id": "9096aa2c",
   "metadata": {},
   "outputs": [],
   "source": []
  }
 ],
 "metadata": {
  "kernelspec": {
   "display_name": "Python 3.8.10 64-bit",
   "language": "python",
   "name": "python3810jvsc74a57bd0916dbcbb3f70747c44a77c7bcd40155683ae19c65e1c03b4aa3499c5328201f1"
  },
  "language_info": {
   "codemirror_mode": {
    "name": "ipython",
    "version": 3
   },
   "file_extension": ".py",
   "mimetype": "text/x-python",
   "name": "python",
   "nbconvert_exporter": "python",
   "pygments_lexer": "ipython3",
   "version": "3.8.10"
  }
 },
 "nbformat": 4,
 "nbformat_minor": 5
}
