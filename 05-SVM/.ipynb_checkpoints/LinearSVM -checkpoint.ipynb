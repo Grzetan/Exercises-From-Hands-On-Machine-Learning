{
 "cells": [
  {
   "cell_type": "markdown",
   "id": "afa45bae",
   "metadata": {},
   "source": [
    "# Linear SVM Classification"
   ]
  },
  {
   "cell_type": "code",
   "execution_count": 1,
   "id": "a6d541e4",
   "metadata": {},
   "outputs": [
    {
     "data": {
      "text/html": [
       "<div>\n",
       "<style scoped>\n",
       "    .dataframe tbody tr th:only-of-type {\n",
       "        vertical-align: middle;\n",
       "    }\n",
       "\n",
       "    .dataframe tbody tr th {\n",
       "        vertical-align: top;\n",
       "    }\n",
       "\n",
       "    .dataframe thead th {\n",
       "        text-align: right;\n",
       "    }\n",
       "</style>\n",
       "<table border=\"1\" class=\"dataframe\">\n",
       "  <thead>\n",
       "    <tr style=\"text-align: right;\">\n",
       "      <th></th>\n",
       "      <th>sepal-width</th>\n",
       "      <th>sepal-length</th>\n",
       "      <th>target</th>\n",
       "    </tr>\n",
       "  </thead>\n",
       "  <tbody>\n",
       "    <tr>\n",
       "      <th>0</th>\n",
       "      <td>4.2</td>\n",
       "      <td>1.2</td>\n",
       "      <td>1</td>\n",
       "    </tr>\n",
       "    <tr>\n",
       "      <th>2</th>\n",
       "      <td>1.5</td>\n",
       "      <td>0.4</td>\n",
       "      <td>0</td>\n",
       "    </tr>\n",
       "    <tr>\n",
       "      <th>3</th>\n",
       "      <td>1.5</td>\n",
       "      <td>0.2</td>\n",
       "      <td>0</td>\n",
       "    </tr>\n",
       "    <tr>\n",
       "      <th>4</th>\n",
       "      <td>1.4</td>\n",
       "      <td>0.2</td>\n",
       "      <td>0</td>\n",
       "    </tr>\n",
       "    <tr>\n",
       "      <th>5</th>\n",
       "      <td>1.6</td>\n",
       "      <td>0.6</td>\n",
       "      <td>0</td>\n",
       "    </tr>\n",
       "  </tbody>\n",
       "</table>\n",
       "</div>"
      ],
      "text/plain": [
       "   sepal-width  sepal-length target\n",
       "0          4.2           1.2      1\n",
       "2          1.5           0.4      0\n",
       "3          1.5           0.2      0\n",
       "4          1.4           0.2      0\n",
       "5          1.6           0.6      0"
      ]
     },
     "execution_count": 1,
     "metadata": {},
     "output_type": "execute_result"
    }
   ],
   "source": [
    "import pandas as pd\n",
    "\n",
    "df = pd.read_csv(\"iris.data\")\n",
    "df.columns = [\"pedal-width\", \"pedal-length\", \"sepal-width\", \"sepal-length\", \"target\"]\n",
    "df = df.sample(frac=1).reset_index(drop=True)\n",
    "df.drop([\"pedal-width\", \"pedal-length\"], axis=1, inplace=True)\n",
    "df.drop(df[df['target'] == 'Iris-virginica'].index, inplace=True)\n",
    "df.loc[df['target'] == 'Iris-setosa', 'target'] = 0\n",
    "df.loc[df['target'] == 'Iris-versicolor', 'target'] = 1\n",
    "df.head()"
   ]
  },
  {
   "cell_type": "markdown",
   "id": "a34e5504",
   "metadata": {},
   "source": [
    "## Visualization"
   ]
  },
  {
   "cell_type": "code",
   "execution_count": 2,
   "id": "681516f4",
   "metadata": {},
   "outputs": [
    {
     "data": {
      "image/png": "[encoded data removed]",
      "text/plain": [
       "<Figure size 432x288 with 1 Axes>"
      ]
     },
     "metadata": {
      "needs_background": "light"
     },
     "output_type": "display_data"
    }
   ],
   "source": [
    "import matplotlib.pyplot as plt\n",
    "import numpy as np\n",
    "%matplotlib inline\n",
    "\n",
    "def plot_dataset(setosa, versicolor, legend=True):\n",
    "    s, = plt.plot(setosa[:,0], setosa[:,1], \"bs\", label=\"Iris setosa\")\n",
    "    v, = plt.plot(versicolor[:, 0], versicolor[:, 1], \"ys\", label=\"Iris versicolor\")\n",
    "\n",
    "    plt.ylabel(\"Pedal length\")\n",
    "    plt.xlabel(\"Pedal width\")\n",
    "    if legend:\n",
    "        plt.legend(handles=[s,v], loc='upper left')\n",
    "    \n",
    "\n",
    "setosa = df[df['target'] == 0]\n",
    "versicolor = df[df['target'] == 1]\n",
    "plot_dataset(np.array(setosa), np.array(versicolor))\n",
    "plt.show()"
   ]
  },
  {
   "cell_type": "markdown",
   "id": "972f59d1",
   "metadata": {},
   "source": [
    "## Train test split"
   ]
  },
  {
   "cell_type": "code",
   "execution_count": 3,
   "id": "4565a67e",
   "metadata": {},
   "outputs": [
    {
     "name": "stdout",
     "output_type": "stream",
     "text": [
      "(79, 2)\n",
      "(20, 2)\n"
     ]
    }
   ],
   "source": [
    "y = df['target'].astype(int)\n",
    "X = df.drop('target', axis=1)\n",
    "\n",
    "from sklearn.model_selection import train_test_split\n",
    "\n",
    "train_x, test_x, train_y, test_y = train_test_split(X, y, random_state = 32, test_size = 0.2)\n",
    "print(train_x.shape)\n",
    "print(test_x.shape)"
   ]
  },
  {
   "cell_type": "markdown",
   "id": "1534e187",
   "metadata": {},
   "source": [
    "## Prepare for model"
   ]
  },
  {
   "cell_type": "code",
   "execution_count": 4,
   "id": "2646ba57",
   "metadata": {},
   "outputs": [
    {
     "data": {
      "text/plain": [
       "(79, 2)"
      ]
     },
     "execution_count": 4,
     "metadata": {},
     "output_type": "execute_result"
    }
   ],
   "source": [
    "from sklearn.preprocessing import StandardScaler\n",
    "\n",
    "scaler = StandardScaler()\n",
    "\n",
    "prepared_x = scaler.fit_transform(train_x)\n",
    "prepared_x.shape"
   ]
  },
  {
   "cell_type": "markdown",
   "id": "bb85fd4f",
   "metadata": {},
   "source": [
    "## Train LinearSVC"
   ]
  },
  {
   "cell_type": "code",
   "execution_count": 5,
   "id": "83866d1d",
   "metadata": {},
   "outputs": [
    {
     "name": "stdout",
     "output_type": "stream",
     "text": [
      "1.0\n"
     ]
    }
   ],
   "source": [
    "from sklearn.svm import LinearSVC\n",
    "\n",
    "linear_svc = LinearSVC(C=5, loss='hinge', random_state=32)\n",
    "linear_svc.fit(prepared_x, train_y)\n",
    "pred = linear_svc.predict(prepared_x)\n",
    "print(np.sum(pred == train_y) / len(pred))"
   ]
  },
  {
   "cell_type": "markdown",
   "id": "5fdd8999",
   "metadata": {},
   "source": [
    "## Visualize model predictions"
   ]
  },
  {
   "cell_type": "code",
   "execution_count": 6,
   "id": "97ab4b8f",
   "metadata": {},
   "outputs": [
    {
     "data": {
      "image/png": "[encoded data removed]",
      "text/plain": [
       "<Figure size 432x288 with 1 Axes>"
      ]
     },
     "metadata": {
      "needs_background": "light"
     },
     "output_type": "display_data"
    }
   ],
   "source": [
    "def plot_svc_decision_boundary(svm_clf, xmin, xmax, line, label=None):\n",
    "    w = svm_clf.coef_[0]\n",
    "    b = svm_clf.intercept_[0]\n",
    "\n",
    "    x0 = np.linspace(xmin, xmax, 200)\n",
    "    decision_boundary = -w[0]/w[1] * x0 - b/w[1]\n",
    "\n",
    "    line, = plt.plot(x0, decision_boundary, line, linewidth=2, label=label)\n",
    "    plt.legend(loc='upper left')\n",
    "\n",
    "setosa = prepared_x[np.where(train_y == 0)[0]]\n",
    "versicolor = prepared_x[np.where(train_y == 1)[0]]\n",
    "plot_dataset(setosa, versicolor, legend=False)\n",
    "plot_svc_decision_boundary(linear_svc, -2,2, \"k-\")\n",
    "plt.ylabel(\"\")\n",
    "plt.show()"
   ]
  },
  {
   "cell_type": "markdown",
   "id": "a33e9771",
   "metadata": {},
   "source": [
    "## Train SVC"
   ]
  },
  {
   "cell_type": "code",
   "execution_count": 7,
   "id": "2d09bc40",
   "metadata": {},
   "outputs": [
    {
     "name": "stdout",
     "output_type": "stream",
     "text": [
      "1.0\n"
     ]
    }
   ],
   "source": [
    "from sklearn.svm import SVC\n",
    "\n",
    "svc = SVC(kernel='linear', C=float(\"inf\"))\n",
    "svc.fit(prepared_x, train_y)\n",
    "pred = svc.predict(prepared_x)\n",
    "print(np.sum(pred == train_y) / len(pred))"
   ]
  },
  {
   "cell_type": "markdown",
   "id": "4cf12b46",
   "metadata": {},
   "source": [
    "## SVC Predictions"
   ]
  },
  {
   "cell_type": "code",
   "execution_count": 8,
   "id": "d8b39202",
   "metadata": {},
   "outputs": [
    {
     "data": {
      "image/png": "[encoded data removed]",
      "text/plain": [
       "<Figure size 432x288 with 1 Axes>"
      ]
     },
     "metadata": {
      "needs_background": "light"
     },
     "output_type": "display_data"
    }
   ],
   "source": [
    "plot_dataset(setosa, versicolor)\n",
    "plot_svc_decision_boundary(svc, -2,2, \"k-\")\n",
    "plt.ylabel(\"\")\n",
    "plt.show()"
   ]
  },
  {
   "cell_type": "markdown",
   "id": "64e288b0",
   "metadata": {},
   "source": [
    "## Train SGDClassifier"
   ]
  },
  {
   "cell_type": "code",
   "execution_count": 9,
   "id": "64b36feb",
   "metadata": {},
   "outputs": [
    {
     "name": "stdout",
     "output_type": "stream",
     "text": [
      "1.0\n"
     ]
    }
   ],
   "source": [
    "from sklearn.linear_model import SGDClassifier\n",
    "\n",
    "sgd = SGDClassifier()\n",
    "sgd.fit(prepared_x, train_y)\n",
    "pred = sgd.predict(prepared_x)\n",
    "print(np.sum(pred == train_y) / len(pred))"
   ]
  },
  {
   "cell_type": "markdown",
   "id": "10608423",
   "metadata": {},
   "source": [
    "## SGD Predictions"
   ]
  },
  {
   "cell_type": "code",
   "execution_count": 10,
   "id": "dd6deeec",
   "metadata": {},
   "outputs": [
    {
     "data": {
      "image/png": "[encoded data removed]",
      "text/plain": [
       "<Figure size 432x288 with 1 Axes>"
      ]
     },
     "metadata": {
      "needs_background": "light"
     },
     "output_type": "display_data"
    }
   ],
   "source": [
    "plot_dataset(setosa, versicolor)\n",
    "plot_svc_decision_boundary(sgd, -2,2, \"k-\")\n",
    "plt.ylabel(\"\")\n",
    "plt.show()"
   ]
  },
  {
   "cell_type": "markdown",
   "id": "8a8f5e64",
   "metadata": {},
   "source": [
    "## Test on test set"
   ]
  },
  {
   "cell_type": "code",
   "execution_count": 11,
   "id": "d25e373e",
   "metadata": {},
   "outputs": [
    {
     "name": "stdout",
     "output_type": "stream",
     "text": [
      "Linear SVC:  1.0\n",
      "SVC:  1.0\n",
      "SGD:  1.0\n"
     ]
    }
   ],
   "source": [
    "prepared_test = scaler.transform(test_x)\n",
    "\n",
    "linear_svc_pred = linear_svc.predict(prepared_test)\n",
    "svc_pred = svc.predict(prepared_test)\n",
    "sgd_pred = sgd.predict(prepared_test)\n",
    "\n",
    "print(\"Linear SVC: \", np.sum(linear_svc_pred == test_y) / len(test_y))\n",
    "print(\"SVC: \", np.sum(svc_pred == test_y) / len(test_y))\n",
    "print(\"SGD: \", np.sum(sgd_pred == test_y) / len(test_y))"
   ]
  },
  {
   "cell_type": "markdown",
   "id": "d3b5779b",
   "metadata": {},
   "source": [
    "## Visualize"
   ]
  },
  {
   "cell_type": "code",
   "execution_count": 12,
   "id": "5e3a9749",
   "metadata": {},
   "outputs": [
    {
     "data": {
      "image/png": "[encoded data removed]",
      "text/plain": [
       "<Figure size 432x288 with 1 Axes>"
      ]
     },
     "metadata": {
      "needs_background": "light"
     },
     "output_type": "display_data"
    }
   ],
   "source": [
    "setosa = prepared_test[np.where(test_y == 0)[0]]\n",
    "versicolor = prepared_test[np.where(test_y == 1)[0]]\n",
    "plot_dataset(setosa, versicolor)\n",
    "plot_svc_decision_boundary(sgd, -2,2, \"k:\", label=\"SGD CLassifier\")\n",
    "plot_svc_decision_boundary(linear_svc, -2,2, \"b--\", label=\"Linear SVC\")\n",
    "plot_svc_decision_boundary(svc, -2,2, \"r-\", label=\"SVC\")\n",
    "plt.ylabel(\"\")\n",
    "plt.show()"
   ]
  }
 ],
 "metadata": {
  "kernelspec": {
   "display_name": "Python 3.8.10 64-bit",
   "language": "python",
   "name": "python3810jvsc74a57bd0916dbcbb3f70747c44a77c7bcd40155683ae19c65e1c03b4aa3499c5328201f1"
  },
  "language_info": {
   "codemirror_mode": {
    "name": "ipython",
    "version": 3
   },
   "file_extension": ".py",
   "mimetype": "text/x-python",
   "name": "python",
   "nbconvert_exporter": "python",
   "pygments_lexer": "ipython3",
   "version": "3.8.10"
  }
 },
 "nbformat": 4,
 "nbformat_minor": 5
}
