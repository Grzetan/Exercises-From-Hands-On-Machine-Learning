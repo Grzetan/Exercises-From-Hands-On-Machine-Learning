{
 "cells": [
  {
   "cell_type": "markdown",
   "id": "d3dc3066",
   "metadata": {},
   "source": [
    "# Dimensionality Reduction on MNIST"
   ]
  },
  {
   "cell_type": "code",
   "execution_count": 1,
   "id": "0bcab504",
   "metadata": {},
   "outputs": [
    {
     "data": {
      "text/plain": [
       "(70000, 784)"
      ]
     },
     "execution_count": 1,
     "metadata": {},
     "output_type": "execute_result"
    }
   ],
   "source": [
    "from sklearn.datasets import fetch_openml\n",
    "\n",
    "X, y = fetch_openml(\"mnist_784\", version=1, return_X_y=True, as_frame=False)\n",
    "X.shape"
   ]
  },
  {
   "cell_type": "code",
   "execution_count": 2,
   "id": "4fa7e95f",
   "metadata": {},
   "outputs": [
    {
     "name": "stdout",
     "output_type": "stream",
     "text": [
      "(60000, 784)\n",
      "(10000, 784)\n"
     ]
    }
   ],
   "source": [
    "from sklearn.model_selection import train_test_split\n",
    "\n",
    "x_train, x_test, y_train, y_test = train_test_split(X,y,test_size=10000, random_state=42)\n",
    "print(x_train.shape)\n",
    "print(x_test.shape)"
   ]
  },
  {
   "cell_type": "code",
   "execution_count": 3,
   "id": "5dec4e2d",
   "metadata": {},
   "outputs": [
    {
     "name": "stdout",
     "output_type": "stream",
     "text": [
      "Training without dimensionality reduction took 33.20436406135559\n"
     ]
    }
   ],
   "source": [
    "from sklearn.ensemble import RandomForestClassifier\n",
    "import time\n",
    "\n",
    "forest = RandomForestClassifier(n_estimators=100, random_state=42)\n",
    "start = time.time()\n",
    "forest.fit(x_train, y_train)\n",
    "print(f'Training without dimensionality reduction took {time.time() - start}')"
   ]
  },
  {
   "cell_type": "markdown",
   "id": "8becc35d",
   "metadata": {},
   "source": [
    "## Dimensionality Reduction"
   ]
  },
  {
   "cell_type": "code",
   "execution_count": 4,
   "id": "b8214603",
   "metadata": {},
   "outputs": [
    {
     "name": "stdout",
     "output_type": "stream",
     "text": [
      "Dimensionality reduction took 5.272422790527344\n",
      "(60000, 154)\n",
      "Training with dimensionality reduction took 93.1807656288147\n"
     ]
    }
   ],
   "source": [
    "from sklearn.decomposition import PCA\n",
    "\n",
    "light_forest = RandomForestClassifier(n_estimators=100, random_state=42)\n",
    "pca = PCA(n_components=0.95, random_state=42)\n",
    "start = time.time()\n",
    "light_x = pca.fit_transform(x_train)\n",
    "print(f'Dimensionality reduction took {time.time() - start}')\n",
    "print(light_x.shape)\n",
    "start = time.time()\n",
    "light_forest.fit(light_x, y_train)\n",
    "print(f'Training with dimensionality reduction took {time.time() - start}')"
   ]
  },
  {
   "cell_type": "markdown",
   "id": "94a94234",
   "metadata": {},
   "source": [
    "## Test"
   ]
  },
  {
   "cell_type": "code",
   "execution_count": 5,
   "id": "9c060ae6",
   "metadata": {},
   "outputs": [
    {
     "name": "stdout",
     "output_type": "stream",
     "text": [
      "Without dimensionality reduction: 0.9674\n",
      "With dimensionality reduction: 0.9469\n"
     ]
    }
   ],
   "source": [
    "light_x_test = pca.transform(x_test)\n",
    "print(f'Without dimensionality reduction: {forest.score(x_test, y_test)}')\n",
    "print(f'With dimensionality reduction: {light_forest.score(light_x_test, y_test)}')"
   ]
  },
  {
   "cell_type": "code",
   "execution_count": null,
   "id": "8e214c53",
   "metadata": {},
   "outputs": [],
   "source": []
  }
 ],
 "metadata": {
  "kernelspec": {
   "display_name": "Python 3.8.10 64-bit",
   "language": "python",
   "name": "python3810jvsc74a57bd0916dbcbb3f70747c44a77c7bcd40155683ae19c65e1c03b4aa3499c5328201f1"
  },
  "language_info": {
   "codemirror_mode": {
    "name": "ipython",
    "version": 3
   },
   "file_extension": ".py",
   "mimetype": "text/x-python",
   "name": "python",
   "nbconvert_exporter": "python",
   "pygments_lexer": "ipython3",
   "version": "3.8.10"
  }
 },
 "nbformat": 4,
 "nbformat_minor": 5
}
